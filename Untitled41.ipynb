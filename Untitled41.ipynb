{
  "nbformat": 4,
  "nbformat_minor": 0,
  "metadata": {
    "colab": {
      "provenance": []
    },
    "kernelspec": {
      "name": "python3",
      "display_name": "Python 3"
    },
    "language_info": {
      "name": "python"
    }
  },
  "cells": [
    {
      "cell_type": "code",
      "execution_count": 41,
      "metadata": {
        "colab": {
          "base_uri": "https://localhost:8080/"
        },
        "id": "Tl4DZVjq9Byq",
        "outputId": "ebd927f1-0055-4499-802c-599265fa8d79"
      },
      "outputs": [
        {
          "output_type": "stream",
          "name": "stdout",
          "text": [
            "Overwriting app.py\n"
          ]
        }
      ],
      "source": [
        "%%writefile app.py\n",
        "import streamlit as st\n",
        "import pickle\n",
        "import pandas as pd\n",
        "\n",
        "teams = ['Sunrisers Hyderabad',\n",
        " 'Mumbai Indians',\n",
        " 'Royal Challengers Bangalore',\n",
        " 'Kolkata Knight Riders',\n",
        " 'Kings XI Punjab',\n",
        " 'Chennai Super Kings',\n",
        " 'Rajasthan Royals',\n",
        " 'Delhi Capitals']\n",
        "\n",
        "cities = ['Hyderabad', 'Bangalore', 'Mumbai', 'Indore', 'Kolkata', 'Delhi',\n",
        "       'Chandigarh', 'Jaipur', 'Chennai', 'Cape Town', 'Port Elizabeth',\n",
        "       'Durban', 'Centurion', 'East London', 'Johannesburg', 'Kimberley',\n",
        "       'Bloemfontein', 'Ahmedabad', 'Cuttack', 'Nagpur', 'Dharamsala',\n",
        "       'Visakhapatnam', 'Pune', 'Raipur', 'Ranchi', 'Abu Dhabi',\n",
        "       'Sharjah', 'Mohali', 'Bengaluru']\n",
        "\n",
        "pipe = pickle.load(open('pipe.pkl','rb'))\n",
        "st.title('IPL Win Predictor')\n",
        "\n",
        "col1, col2 = st.columns(2)\n",
        "with col1:\n",
        "  batting_team = st.selectbox('Select the batting team',sorted(teams))\n",
        "with col2:\n",
        "  bowling_team = st.selectbox('Select the bowling team',sorted(teams))\n",
        "\n",
        "selected_city = st.selectbox('Select host city',sorted(cities))\n",
        "\n",
        "target = st.number_input('Target')\n",
        "\n",
        "col3, col4, col5 = st.columns(3)\n",
        "\n",
        "with col3:\n",
        "  score = st.number_input('Score')\n",
        "with col4:\n",
        "  overs = st.number_input('Overs completed')\n",
        "with col5:\n",
        "  wickets = st.number_input('Wickets out')\n",
        "\n",
        "if st.button('Predict Probability'):\n",
        "  runs_left = target - score\n",
        "  balls_left = 120 - (overs*6)\n",
        "  wickets = 10 - wickets\n",
        "  crr = score/overs\n",
        "  rrr = (runs_left*6)/balls_left\n",
        "\n",
        "  input_df = pd.DataFrame({'batting_team':[batting_team],'bowling_team':[bowling_team],'city':[selected_city],'runs_left':[runs_left],'balls_left':[balls_left],'wickets':[wickets],'total_runs_x':[target],'crr':[crr],'rrr':[rrr]})\n",
        "\n",
        "  result = pipe.predict_proba(input_df)\n",
        "  loss = result[0][0]\n",
        "  win = result[0][1]\n",
        "  st.header(batting_team + \"- \" + str(round(win*100)) + \"%\")\n",
        "  st.header(bowling_team + \"- \" + str(round(loss*100)) + \"%\")"
      ]
    },
    {
      "cell_type": "code",
      "source": [
        "!streamlit run app.py"
      ],
      "metadata": {
        "colab": {
          "base_uri": "https://localhost:8080/"
        },
        "id": "SXCnllG7PC_U",
        "outputId": "af3140c1-9ed0-47b4-c5f8-1f9c38806e8c"
      },
      "execution_count": 42,
      "outputs": [
        {
          "output_type": "stream",
          "name": "stdout",
          "text": [
            "\n",
            "Collecting usage statistics. To deactivate, set browser.gatherUsageStats to false.\n",
            "\u001b[0m\n",
            "\u001b[0m\n",
            "\u001b[34m\u001b[1m  You can now view your Streamlit app in your browser.\u001b[0m\n",
            "\u001b[0m\n",
            "\u001b[34m  Local URL: \u001b[0m\u001b[1mhttp://localhost:8502\u001b[0m\n",
            "\u001b[34m  Network URL: \u001b[0m\u001b[1mhttp://172.28.0.12:8502\u001b[0m\n",
            "\u001b[34m  External URL: \u001b[0m\u001b[1mhttp://34.75.97.173:8502\u001b[0m\n",
            "\u001b[0m\n",
            "\u001b[34m  Stopping...\u001b[0m\n",
            "\u001b[34m  Stopping...\u001b[0m\n"
          ]
        }
      ]
    },
    {
      "cell_type": "code",
      "source": [],
      "metadata": {
        "id": "fA3XsjqJOGh3"
      },
      "execution_count": 30,
      "outputs": []
    },
    {
      "cell_type": "code",
      "metadata": {
        "colab": {
          "base_uri": "https://localhost:8080/"
        },
        "id": "5951c271",
        "outputId": "ea0ea03c-6019-4e76-f337-6b531af259b8"
      },
      "source": [
        "!pip install pyngrok"
      ],
      "execution_count": 43,
      "outputs": [
        {
          "output_type": "stream",
          "name": "stdout",
          "text": [
            "Requirement already satisfied: pyngrok in /usr/local/lib/python3.11/dist-packages (7.2.12)\n",
            "Requirement already satisfied: PyYAML>=5.1 in /usr/local/lib/python3.11/dist-packages (from pyngrok) (6.0.2)\n"
          ]
        }
      ]
    },
    {
      "cell_type": "code",
      "metadata": {
        "colab": {
          "base_uri": "https://localhost:8080/"
        },
        "id": "25e93ce6",
        "outputId": "a3831fea-f1a2-4be4-ac3a-bb734397e7b5"
      },
      "source": [
        "from pyngrok import ngrok\n",
        "from google.colab import userdata\n",
        "\n",
        "ngrok.set_auth_token(userdata.get('NGROK_AUTHTOKEN'))\n",
        "public_url = ngrok.connect(8501)\n",
        "print(public_url)"
      ],
      "execution_count": 49,
      "outputs": [
        {
          "output_type": "stream",
          "name": "stdout",
          "text": [
            "NgrokTunnel: \"https://4d55d9fbf43b.ngrok-free.app\" -> \"http://localhost:8501\"\n"
          ]
        }
      ]
    },
    {
      "cell_type": "code",
      "metadata": {
        "colab": {
          "base_uri": "https://localhost:8080/"
        },
        "id": "469747eb",
        "outputId": "66f1d20e-c71b-44a2-ec8c-3790b51bf653"
      },
      "source": [
        "!streamlit run app.py --server.port 8501"
      ],
      "execution_count": 47,
      "outputs": [
        {
          "output_type": "stream",
          "name": "stdout",
          "text": [
            "\n",
            "Collecting usage statistics. To deactivate, set browser.gatherUsageStats to false.\n",
            "\u001b[0m\n",
            "2025-07-26 11:03:41.464 Port 8501 is already in use\n"
          ]
        }
      ]
    }
  ]
}